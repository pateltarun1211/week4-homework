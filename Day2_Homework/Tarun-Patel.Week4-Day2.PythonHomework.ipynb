{
 "cells": [
  {
   "cell_type": "markdown",
   "metadata": {},
   "source": [
    "# Classic Algorithms"
   ]
  },
  {
   "cell_type": "markdown",
   "metadata": {},
   "source": [
    "## Tasks Today:\n",
    " \n",
    "1) <b>In-Place Algorithms</b> <br>\n",
    " &nbsp;&nbsp;&nbsp;&nbsp; a) Syntax <br>\n",
    " &nbsp;&nbsp;&nbsp;&nbsp; a) Out of Place Algorithm <br>\n",
    " &nbsp;&nbsp;&nbsp;&nbsp; b) In-Class Exercise #1 <br>\n",
    "2) <b>Two Pointers</b> <br>\n",
    "3) <b>Linked Lists</b> <br>\n",
    "4) <b>Merge Sort</b> <br>\n",
    " &nbsp;&nbsp;&nbsp;&nbsp; a) Video on Algorithms <br>\n",
    " &nbsp;&nbsp;&nbsp;&nbsp; b) How it Works <br>\n",
    "5) <b>Exercises</b> <br>\n",
    " &nbsp;&nbsp;&nbsp;&nbsp; a) Exercise #1 - Reverse a List in Place Using an In-Place Algorithm <br>\n",
    " &nbsp;&nbsp;&nbsp;&nbsp; b) Exercise #2 - Find Distinct Words <br>\n",
    " &nbsp;&nbsp;&nbsp;&nbsp; c) Exercise #3 - Write a program to implement a Linear Search Algorithm. <br>"
   ]
  },
  {
   "cell_type": "markdown",
   "metadata": {},
   "source": [
    "## In-Place Algorithms"
   ]
  },
  {
   "cell_type": "markdown",
   "metadata": {},
   "source": [
    "#### Syntax"
   ]
  },
  {
   "cell_type": "code",
   "execution_count": 1,
   "metadata": {},
   "outputs": [
    {
     "name": "stdout",
     "output_type": "stream",
     "text": [
      "Before Swap: [20, 4, 10]\n",
      "After Swap: [20, 10, 4]\n"
     ]
    }
   ],
   "source": [
    "# var[i], var[j] = var[j], var[i]\n",
    "# sometimes known as a swap algorithm\n",
    "\n",
    "def swap(alist, x, y, z):\n",
    "    alist[x], alist[y], alist[z] = alist[z], alist[y], alist[x]\n",
    "    return alist\n",
    "\n",
    "my_list = [20, 4, 10]\n",
    "print(f\"Before Swap: {my_list}\")\n",
    "swap(my_list, 2, 0, 1)\n",
    "print(f\"After Swap: {my_list}\")"
   ]
  },
  {
   "cell_type": "markdown",
   "metadata": {},
   "source": [
    "#### Out of Place Algorithm"
   ]
  },
  {
   "cell_type": "code",
   "execution_count": 4,
   "metadata": {},
   "outputs": [
    {
     "name": "stdout",
     "output_type": "stream",
     "text": [
      "[10, 4, 20]\n",
      "Before ['a', 'b', 'c', 'd']\n",
      "After ['d', 'c', 'b', 'a']\n"
     ]
    }
   ],
   "source": [
    "# out of place --> creating an new list or a list copy\n",
    "# not swapping, we reversing the list completely\n",
    "# but it also copies to another place in memory\n",
    "my_list = [20, 4, 10]\n",
    "\n",
    "my_list_copy = my_list[::-1]\n",
    "print(my_list_copy)\n",
    "\n",
    "array = ['a', 'b', 'c', 'd']\n",
    "new_array = ['a'] *len(array)\n",
    "#print(new_array)\n",
    "print(\"Before\", array)\n",
    "length = len(array) - 1 # = 3\n",
    "\n",
    "for i in range(length):\n",
    "    new_array[i] = array[length - i] # 3 - i\n",
    "    \n",
    "array = new_array\n",
    "print(\"After\", array)\n",
    "\n"
   ]
  },
  {
   "cell_type": "markdown",
   "metadata": {},
   "source": [
    "#### In-Class Exercise #1 <br>\n",
    "<p>Write a function that takes in four arguments (list, index1, index2, index3), and swaps those three positions in the list passed in.</p>"
   ]
  },
  {
   "cell_type": "code",
   "execution_count": 7,
   "metadata": {},
   "outputs": [
    {
     "data": {
      "text/plain": [
       "[10, 4, 4, 8, 2, 3, 6]"
      ]
     },
     "execution_count": 7,
     "metadata": {},
     "output_type": "execute_result"
    }
   ],
   "source": [
    "l_1 = [10, 4, 3, 8, 4, 2, 6]\n",
    "\n",
    "def CHAAAANNGEEEplllaaaaceess(list, x, y, z):\n",
    "    list[x], list[y], list[z] = list[z], list[x], list[y]\n",
    "    return list\n",
    "\n",
    "CHAAAANNGEEEplllaaaaceess(l_1, 5, 4, 2)"
   ]
  },
  {
   "cell_type": "markdown",
   "metadata": {},
   "source": [
    "## Two Pointers"
   ]
  },
  {
   "cell_type": "markdown",
   "metadata": {},
   "source": [
    "#### Syntax"
   ]
  },
  {
   "cell_type": "code",
   "execution_count": 13,
   "metadata": {},
   "outputs": [
    {
     "data": {
      "text/plain": [
       "[22, 11, 4, 8, 9, 12, 3, 2, 1]"
      ]
     },
     "execution_count": 13,
     "metadata": {},
     "output_type": "execute_result"
    }
   ],
   "source": [
    "# alist[left], alist[right] = alist[right], alist[left]\n",
    "# use two pointers to swap, you can use a while loop in most cases\n",
    "\n",
    "my_list2 = [1,2,3,12,9,8,4,11,22]\n",
    "\n",
    "def twoPointers(alist):\n",
    "    #creating pointer for the list\n",
    "    left = 0 # left is index, beginning at the start of hte list or the left side\n",
    "    right = len(alist) - 1 # right is an index, starting at the end of the list or right side\n",
    "    while left <= right:\n",
    "        alist[left], alist[right] = alist[right], alist[left]\n",
    "        left += 1\n",
    "        right -= 1\n",
    "    return alist\n",
    "\n",
    "twoPointers(my_list2)"
   ]
  },
  {
   "cell_type": "code",
   "execution_count": 14,
   "metadata": {},
   "outputs": [
    {
     "data": {
      "text/plain": [
       "[10, 34, 22, 12, 9, 8, 3, 6, 5, 2]"
      ]
     },
     "execution_count": 14,
     "metadata": {},
     "output_type": "execute_result"
    }
   ],
   "source": [
    "#           0                              9\n",
    "my_list3 = [2, 5, 6, 3, 8, 9, 12, 22, 34, 10]\n",
    "\n",
    "def twoPointers(alist):\n",
    "    left = 0\n",
    "    right = len(alist) - 1 # 9\n",
    "    \n",
    "    while left <= right:\n",
    "        alist[left], alist[right] = alist[right], alist[left]\n",
    "        left += 1\n",
    "        right -= 1\n",
    "    return alist\n",
    "twoPointers(my_list3)"
   ]
  },
  {
   "cell_type": "markdown",
   "metadata": {},
   "source": [
    "#### Video of Algorithms <br>\n",
    "<p>Watch the video about algorithms.</p>\n",
    "\n",
    "https://www.youtube.com/watch?v=Q9HjeFD62Uk\n",
    "\n",
    "https://www.youtube.com/watch?v=kPRA0W1kECg\n",
    "\n",
    "https://www.youtube.com/watch?v=ZZuD6iUe3Pc"
   ]
  },
  {
   "cell_type": "markdown",
   "metadata": {},
   "source": [
    "# Sorting Algorithms"
   ]
  },
  {
   "cell_type": "code",
   "execution_count": null,
   "metadata": {},
   "outputs": [],
   "source": [
    "# constant time\n",
    "array = [1,2,3,4]\n",
    "print(array[0])\n",
    "\n",
    "if 2 in array:\n",
    "    print(\"It's here\")\n",
    "for num in array:\n",
    "    print(num)\n",
    "    \n",
    "# O(n log n)\n",
    "array2 = [1, 5, 6, 8, 4, 6, 7, 4, 5, 2, 4]\n",
    "sorted_array = sorted (array2)\n",
    "array2.sort()\n",
    "\n",
    "# O(n^2) Quadratic\n",
    "array = [1,2,3,4]\n",
    "array2 = [1, 5, 6, 8, 4, 6, 7, 4, 5, 2, 4]\n",
    "for x in array2: # Looping through one list\n",
    "    if x in array2: # searching in another\n",
    "        print(x)\n",
    "\n",
    "for x in array2: # double for loops are quadratic\n",
    "    for y in array2:\n",
    "        print(x, y)\n",
    "#basically any nested linear operation is going to increase time complexity exponentially\n",
    "\n",
    "# cubic --> exponential\n",
    "for x in array2: # double for loops are quadratic\n",
    "    for y in array2:\n",
    "        for z in array2:\n",
    "            print(x,y,z)"
   ]
  },
  {
   "cell_type": "markdown",
   "metadata": {},
   "source": [
    "#### Bubble Sort\n",
    "\n",
    "Worst Case: O(n^2) Time - O(1) Space"
   ]
  },
  {
   "cell_type": "code",
   "execution_count": 22,
   "metadata": {},
   "outputs": [],
   "source": [
    "# Time complexity\n",
    "# how many actions have to happen per things taken inputs\n",
    "\n",
    "# .count() linear\n",
    "# .append() constant\n",
    "# .sort()/ sorted() O(n log n)\n",
    "# .pop() --> removes the last item --> constant\n",
    "# .pop(4) --> linear --> has to traverse the list to remove the given index"
   ]
  },
  {
   "cell_type": "code",
   "execution_count": 24,
   "metadata": {},
   "outputs": [
    {
     "data": {
      "text/plain": [
       "[1, 22, 34, 44, 55, 66, 88, 100]"
      ]
     },
     "execution_count": 24,
     "metadata": {},
     "output_type": "execute_result"
    }
   ],
   "source": [
    "# Best Case O(n) - Linear\n",
    "# Worst Case O(n^2) Quadratic\n",
    "\n",
    "my_list = [22, 55, 88, 44, 1, 100, 34, 66]\n",
    "def swap(i, j, array):\n",
    "    array[i], array[j] = array[j], array[i]\n",
    "    \n",
    "def bubbleSort(array):\n",
    "    isSorted = False # setting a flag\n",
    "    while not isSorted:\n",
    "        isSorted = True\n",
    "        for index in range(len(array)-1):\n",
    "            if array[index] > array[index + 1]:\n",
    "                swap(index, index + 1, array)\n",
    "                isSorted = False\n",
    "    return array\n",
    "\n",
    "bubbleSort(my_list)"
   ]
  },
  {
   "cell_type": "markdown",
   "metadata": {},
   "source": [
    "##### Insertion Sort\n",
    "\n",
    "Worst Case: O(n^2) time - O(1)space"
   ]
  },
  {
   "cell_type": "code",
   "execution_count": 29,
   "metadata": {},
   "outputs": [
    {
     "data": {
      "text/plain": [
       "[1, 22, 34, 44, 55, 66, 88, 100]"
      ]
     },
     "execution_count": 29,
     "metadata": {},
     "output_type": "execute_result"
    }
   ],
   "source": [
    "def swap(i, j, array):\n",
    "    array[i], array[j] = array [j], array[i]\n",
    "    \n",
    "def insertionSort(array):\n",
    "    for i in range(1, len(array)): # <-- consider 0 to be sorted\n",
    "        #creating a check so we don't go past the 0 index\n",
    "        j = i\n",
    "        while j > 0 and array[j] < array[j - 1]:\n",
    "            swap(j, j - 1, array)\n",
    "            j -= 1\n",
    "    return array\n",
    "\n",
    "my_list = [22, 55, 88, 44, 1, 100, 34, 66]\n",
    "\n",
    "insertionSort(my_list)"
   ]
  },
  {
   "cell_type": "markdown",
   "metadata": {},
   "source": [
    "## Merge Sort"
   ]
  },
  {
   "cell_type": "markdown",
   "metadata": {},
   "source": [
    "#### How it Works"
   ]
  },
  {
   "cell_type": "code",
   "execution_count": 38,
   "metadata": {},
   "outputs": [
    {
     "name": "stdout",
     "output_type": "stream",
     "text": [
      "[18, 15, 0, 0, 7]\n",
      "Splitting.... [1, 22, 34, 44, 55, 66, 88, 100]\n",
      "Splitting.... [1, 22, 34, 44]\n",
      "Splitting.... [1, 22]\n",
      "Splitting.... [1]\n",
      "Merging:  [1]\n",
      "Splitting.... [22]\n",
      "Merging:  [22]\n",
      "Merging:  [1, 22]\n",
      "Splitting.... [34, 44]\n",
      "Splitting.... [34]\n",
      "Merging:  [34]\n",
      "Splitting.... [44]\n",
      "Merging:  [44]\n",
      "Merging:  [34, 44]\n",
      "Merging:  [1, 22, 34, 44]\n",
      "Splitting.... [55, 66, 88, 100]\n",
      "Splitting.... [55, 66]\n",
      "Splitting.... [55]\n",
      "Merging:  [55]\n",
      "Splitting.... [66]\n",
      "Merging:  [66]\n",
      "Merging:  [55, 66]\n",
      "Splitting.... [88, 100]\n",
      "Splitting.... [88]\n",
      "Merging:  [88]\n",
      "Splitting.... [100]\n",
      "Merging:  [100]\n",
      "Merging:  [88, 100]\n",
      "Merging:  [55, 66, 88, 100]\n",
      "Merging:  [1, 22, 34, 44, 55, 66, 88, 100]\n"
     ]
    },
    {
     "data": {
      "text/plain": [
       "[1, 22, 34, 44, 55, 66, 88, 100]"
      ]
     },
     "execution_count": 38,
     "metadata": {},
     "output_type": "execute_result"
    }
   ],
   "source": [
    "# Step 1: Split everything into its own group\n",
    "# Step 2: From the left to right merge two groups together\n",
    "# Step 3: While merging, place each item in the correct position within the merged group\n",
    "# Step 4: Continue Steps 3-4 until only one group is left\n",
    "\n",
    "from random import randint\n",
    "# generate a random list of 5 numbers between 0 to 20\n",
    "nums = [randint(0,20) for i in range(5)]\n",
    "\n",
    "print(nums)\n",
    "\n",
    "# merge sort function\n",
    "def mergeSort(alist):\n",
    "    print(\"Splitting....\", alist)\n",
    "    \n",
    "    # step 1: divide the array into equal parts (as much as posisble)\n",
    "    if len(alist) > 1:\n",
    "        mid = len(alist) // 2\n",
    "        lefthalf = alist[:mid]\n",
    "        righthalf = alist[mid:]\n",
    "        \n",
    "        # recursively call mergeSort to perform splits until len(alist) == 1\n",
    "        # merge once the splits are done\n",
    "        mergeSort(lefthalf)\n",
    "        mergeSort(righthalf)\n",
    "        \n",
    "        # index pointers for our list\n",
    "        l = 0 # pointer for left half\n",
    "        r = 0 # pointer for our right half\n",
    "        m = 0 # pointer for our main array\n",
    "        \n",
    "        # Step 2: Compare the lefthalf with righthalf\n",
    "        while l < len(lefthalf) and r < len(righthalf):\n",
    "            if lefthalf[l] < righthalf[r]:\n",
    "                alist[m] = lefthalf[l]\n",
    "                l += 1\n",
    "            \n",
    "            else:\n",
    "                alist[m] = righthalf[r]\n",
    "                r += 1\n",
    "        \n",
    "            m += 1\n",
    "        \n",
    "        # Step 3: While merging, palce items in correct position\n",
    "        while l < len(lefthalf):\n",
    "            alist[m] = lefthalf[l]\n",
    "            l += 1\n",
    "            m += 1\n",
    "        \n",
    "        while r < len(righthalf):\n",
    "            alist[m] = righthalf[r]\n",
    "            r += 1\n",
    "            m += 1\n",
    "            \n",
    "    print(\"Merging: \", alist)\n",
    "    return alist\n",
    "mergeSort(my_list)"
   ]
  },
  {
   "cell_type": "markdown",
   "metadata": {},
   "source": [
    "# Binary Search\n",
    "\n",
    "The Binary Search algorithm works by finding the number in the middle of a given array and comparing it to the target. Given that the array is sorted\n",
    "\n",
    "* The worst case run time for this algorithm is `O(log(n))`"
   ]
  },
  {
   "cell_type": "code",
   "execution_count": 46,
   "metadata": {},
   "outputs": [
    {
     "data": {
      "text/plain": [
       "'The index is ....1'"
      ]
     },
     "execution_count": 46,
     "metadata": {},
     "output_type": "execute_result"
    }
   ],
   "source": [
    "# Less == Left\n",
    "# Greater == Right\n",
    "# List of numbers must be sorted\n",
    "\n",
    "def bin_helper(array, target, left, right):\n",
    "    while left <= right:\n",
    "        middle = (left + right) // 2\n",
    "        potentialMatch = array[middle]\n",
    "        if target == potentialMatch:\n",
    "            return f\"The index is ....{middle}\"\n",
    "        elif target < potentialMatch:\n",
    "            right = middle - 1\n",
    "        else:\n",
    "            left = middle + 1\n",
    "    return -1 \n",
    "\n",
    "def binarySearch(array, target):\n",
    "    return bin_helper(array, target, 0, len(array)-1)\n",
    "\n",
    "binarySearch([22, 44, 55, 66, 88, 100], 44)"
   ]
  },
  {
   "cell_type": "markdown",
   "metadata": {},
   "source": [
    "# Exercises"
   ]
  },
  {
   "cell_type": "markdown",
   "metadata": {},
   "source": [
    "### Exercise #1 <br>\n",
    "<p>Reverse the list below in-place using an in-place algorithm.<br>For extra credit: Reverse the strings at the same time.</p>"
   ]
  },
  {
   "cell_type": "code",
   "execution_count": 1,
   "metadata": {},
   "outputs": [
    {
     "name": "stdout",
     "output_type": "stream",
     "text": [
      "None\n"
     ]
    }
   ],
   "source": [
    "words = ['this' , 'is', 'a', 'sentence', '.']\n",
    "\n",
    "def reverse(list, a, b, c, d, e):\n",
    "    list[a], list[b], list[c], list[d], list[e] = list[e], list[d], list[c], list[b], list[a]\n",
    "    \n",
    "reverse(words, 0, 1, 2, 3, 4)\n",
    "print(words)\n"
   ]
  },
  {
   "cell_type": "code",
   "execution_count": 4,
   "metadata": {},
   "outputs": [
    {
     "name": "stdout",
     "output_type": "stream",
     "text": [
      "['.', 'sentence', 'a', 'is', 'this']\n"
     ]
    }
   ],
   "source": [
    "# List of any size reverse\n",
    "words = ['this' , 'is', 'a', 'sentence', '.']\n",
    "def word_rev2(alist):\n",
    "    left = 0\n",
    "    right = len(alist) - 1\n",
    "    while left <= right:\n",
    "        alist[left], alist[right] = alist[right], alist[left]\n",
    "        left += 1\n",
    "        right -= 1\n",
    "    return words\n",
    "\n",
    "print(word_rev2(words))"
   ]
  },
  {
   "cell_type": "markdown",
   "metadata": {},
   "source": [
    "### Exercise #2 <br>\n",
    "<p>Create a function that counts how many distinct words are in the string below, then outputs a dictionary with the words as the key and the value as the amount of times that word appears in the string.<br>Should output:<br>{'a': 5,<br>\n",
    " 'abstract': 1,<br>\n",
    " 'an': 3,<br>\n",
    " 'array': 2, ... etc...</p>"
   ]
  },
  {
   "cell_type": "code",
   "execution_count": null,
   "metadata": {},
   "outputs": [],
   "source": [
    "a_text = 'In computing, a hash table hash map is a data structure which implements an associative array abstract data type, a structure that can map keys to values. A hash table uses a hash function to compute an index into an array of buckets or slots from which the desired value can be found'\n",
    "\n",
    "word_dict = {}\n",
    "\n",
    "def word_freq(string):\n",
    "    for word in string.split():\n",
    "        if word in word_dict:\n",
    "            word_dict[word] += 1\n",
    "        else:\n",
    "            word_dict[word] = 1\n",
    "    return sorted(word_dict.items())\n",
    "\n",
    "print(word_freq(a_text))"
   ]
  },
  {
   "cell_type": "markdown",
   "metadata": {},
   "source": [
    "## Exercise #3\n",
    "\n",
    "Write a program to implement a Linear Search Algorithm. Also in a comment, write the Time Complexity of the following algorithm.\n",
    "\n",
    "#### Hint: Linear Searching will require searching a list for a given number. "
   ]
  },
  {
   "cell_type": "code",
   "execution_count": 53,
   "metadata": {},
   "outputs": [
    {
     "name": "stdout",
     "output_type": "stream",
     "text": [
      "4\n"
     ]
    }
   ],
   "source": [
    "# Time complexity - O(n)\n",
    "\n",
    "def linear_search(alist, num):\n",
    "    for i in range(len(alist)):\n",
    "        if alist[i] == num:\n",
    "            return i\n",
    "    return -1\n",
    "\n",
    "l_1 = ['a','b','c','d','e','f','g','h']\n",
    "\n",
    "print(linear_search(l_1, 'e'))\n",
    "\n",
    "\n"
   ]
  }
 ],
 "metadata": {
  "kernelspec": {
   "display_name": "Python 3 (ipykernel)",
   "language": "python",
   "name": "python3"
  },
  "language_info": {
   "codemirror_mode": {
    "name": "ipython",
    "version": 3
   },
   "file_extension": ".py",
   "mimetype": "text/x-python",
   "name": "python",
   "nbconvert_exporter": "python",
   "pygments_lexer": "ipython3",
   "version": "3.10.7"
  }
 },
 "nbformat": 4,
 "nbformat_minor": 2
}
